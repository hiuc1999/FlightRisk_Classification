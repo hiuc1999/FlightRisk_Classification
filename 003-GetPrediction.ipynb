{
 "cells": [
  {
   "cell_type": "code",
   "execution_count": 1,
   "id": "fea44085",
   "metadata": {},
   "outputs": [],
   "source": [
    "import numpy as np\n",
    "import pickle\n",
    "import pandas as pd"
   ]
  },
  {
   "cell_type": "code",
   "execution_count": 2,
   "id": "2f7a4845",
   "metadata": {},
   "outputs": [],
   "source": [
    "import warnings\n",
    "warnings.filterwarnings(\"ignore\")"
   ]
  },
  {
   "cell_type": "code",
   "execution_count": 3,
   "id": "51b5e6c4",
   "metadata": {},
   "outputs": [],
   "source": [
    "model_final = pickle.load(open('model/model_rf_final.pickle','rb'))\n",
    "ohe = pickle.load(open('model/OneHotEncoder.pickle','rb'))\n",
    "scaler = pickle.load(open('model/MinMaxScaler.pickle','rb'))"
   ]
  },
  {
   "cell_type": "code",
   "execution_count": 4,
   "id": "510c14ed",
   "metadata": {},
   "outputs": [
    {
     "name": "stdout",
     "output_type": "stream",
     "text": [
      "['Age', 'BusinessTravel', 'DailyRate', 'Department', 'DistanceFromHome', 'Education', 'EducationField', 'EmployeeCount', 'EmployeeNumber', 'EnvironmentSatisfaction', 'Gender', 'HourlyRate', 'JobInvolvement', 'JobLevel', 'JobRole', 'JobSatisfaction', 'MaritalStatus', 'MonthlyIncome', 'MonthlyRate', 'NumCompaniesWorked', 'Over18', 'OverTime', 'PercentSalaryHike', 'PerformanceRating', 'RelationshipSatisfaction', 'StandardHours', 'StockOptionLevel', 'TotalWorkingYears', 'TrainingTimesLastYear', 'WorkLifeBalance', 'YearsAtCompany', 'YearsInCurrentRole', 'YearsSinceLastPromotion', 'YearsWithCurrManager']\n"
     ]
    }
   ],
   "source": [
    "df = pd.read_csv('data/Human_Resources.csv')\n",
    "col = df.columns.tolist()   \n",
    "col.remove('Attrition')\n",
    "print(col)"
   ]
  },
  {
   "cell_type": "code",
   "execution_count": 5,
   "id": "6807cfd7",
   "metadata": {},
   "outputs": [],
   "source": [
    "def get_flightrisk(inp_var):\n",
    "    df_inp = pd.DataFrame(columns = col)\n",
    "    df_inp.loc[0] = inp_var\n",
    "\n",
    "    df_inp.drop(['EmployeeCount', 'StandardHours','Over18','EmployeeNumber'], axis=1,inplace=True)\n",
    "    df_inp_cat = ohe.transform(df_inp[['BusinessTravel','Department','EducationField','Gender','JobRole','MaritalStatus','OverTime']]).toarray()\n",
    "    df_inp_cat = pd.DataFrame(df_inp_cat)\n",
    "\n",
    "    df_inp_num = df_inp.drop(['BusinessTravel','Department','EducationField','Gender','JobRole','MaritalStatus','OverTime'], axis=1)\n",
    "\n",
    "    df_inp_final = pd.concat([df_inp_cat, df_inp_num], axis=1)\n",
    "    df_inp_final = scaler.transform(df_inp_final)\n",
    "\n",
    "    return model_final.predict(df_inp_final)[0]"
   ]
  },
  {
   "cell_type": "code",
   "execution_count": 6,
   "id": "d33c98db",
   "metadata": {},
   "outputs": [],
   "source": [
    "inp = [23, 'Travel_Frequently', 358, 'Sales', 6, 2, 'Life Sciences',\n",
    "       1, 1, 2, 'Female', 94, 3, 2, 'Sales Executive', 4, 'Single', 5993,\n",
    "       19479, 8, 'Y', 'Yes', 11, 3, 2, 80, 0, 4, 1, 2, 1, 1, 1, 1]"
   ]
  },
  {
   "cell_type": "code",
   "execution_count": 7,
   "id": "5c1572f2",
   "metadata": {},
   "outputs": [
    {
     "data": {
      "text/plain": [
       "1"
      ]
     },
     "execution_count": 7,
     "metadata": {},
     "output_type": "execute_result"
    }
   ],
   "source": [
    "get_flightrisk(inp)"
   ]
  },
  {
   "cell_type": "code",
   "execution_count": 8,
   "id": "f0e194a8",
   "metadata": {},
   "outputs": [],
   "source": [
    "inp2 = [45, 'Travel_Frequently', 1270, 'Sales', 6, 2, 'Life Sciences',\n",
    "       1, 1, 2, 'Female', 134, 3, 2, 'Sales Executive', 4, 'Married', 5993,\n",
    "       19479, 8, 'Y', 'No', 11, 3, 2, 80, 1, 4, 1, 3, 5, 5, 6, 9]"
   ]
  },
  {
   "cell_type": "code",
   "execution_count": 9,
   "id": "e3144c61",
   "metadata": {},
   "outputs": [
    {
     "data": {
      "text/plain": [
       "0"
      ]
     },
     "execution_count": 9,
     "metadata": {},
     "output_type": "execute_result"
    }
   ],
   "source": [
    "get_flightrisk(inp2)"
   ]
  },
  {
   "cell_type": "code",
   "execution_count": null,
   "id": "b1a5ef70",
   "metadata": {},
   "outputs": [],
   "source": []
  }
 ],
 "metadata": {
  "kernelspec": {
   "display_name": "Python 3 (ipykernel)",
   "language": "python",
   "name": "python3"
  },
  "language_info": {
   "codemirror_mode": {
    "name": "ipython",
    "version": 3
   },
   "file_extension": ".py",
   "mimetype": "text/x-python",
   "name": "python",
   "nbconvert_exporter": "python",
   "pygments_lexer": "ipython3",
   "version": "3.9.7"
  }
 },
 "nbformat": 4,
 "nbformat_minor": 5
}
