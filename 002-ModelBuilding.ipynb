{
 "cells": [
  {
   "cell_type": "code",
   "execution_count": null,
   "id": "3dc50e0f",
   "metadata": {
    "id": "3dc50e0f"
   },
   "outputs": [],
   "source": [
    "import numpy as np\n",
    "import pandas as pd\n",
    "from sklearn.metrics import accuracy_score, f1_score, confusion_matrix, classification_report"
   ]
  },
  {
   "cell_type": "code",
   "execution_count": null,
   "id": "KuqES_I47NtZ",
   "metadata": {
    "colab": {
     "base_uri": "https://localhost:8080/"
    },
    "executionInfo": {
     "elapsed": 43,
     "status": "ok",
     "timestamp": 1662360688506,
     "user": {
      "displayName": "hc lau",
      "userId": "10631895198423306395"
     },
     "user_tz": -480
    },
    "id": "KuqES_I47NtZ",
    "outputId": "bb4e089b-0375-4ffa-9e96-9c51f908d33e"
   },
   "outputs": [],
   "source": [
    "import warnings\n",
    "warnings.filterwarnings(\"ignore\")"
   ]
  },
  {
   "cell_type": "markdown",
   "id": "3b1ad3e1",
   "metadata": {
    "id": "3b1ad3e1"
   },
   "source": [
    "## Data Preprocessing"
   ]
  },
  {
   "cell_type": "code",
   "execution_count": null,
   "id": "53c6bc49",
   "metadata": {
    "id": "53c6bc49"
   },
   "outputs": [],
   "source": [
    "emp_df = pd.read_csv('data/Human_Resources.csv')"
   ]
  },
  {
   "cell_type": "code",
   "execution_count": null,
   "id": "462b52ed",
   "metadata": {
    "id": "462b52ed"
   },
   "outputs": [],
   "source": [
    "# Drop columns in which all rows have the same values\n",
    "# Also drop EmployeeNumber which does not contribution to the problem\n",
    "emp_df.drop(['EmployeeCount', 'StandardHours','Over18','EmployeeNumber'], axis=1,inplace=True)"
   ]
  },
  {
   "cell_type": "code",
   "execution_count": null,
   "id": "6131761e",
   "metadata": {
    "colab": {
     "base_uri": "https://localhost:8080/"
    },
    "executionInfo": {
     "elapsed": 34,
     "status": "ok",
     "timestamp": 1662360688509,
     "user": {
      "displayName": "hc lau",
      "userId": "10631895198423306395"
     },
     "user_tz": -480
    },
    "id": "6131761e",
    "outputId": "005e7f81-a8ac-4be4-c73e-c6baeda1ab21"
   },
   "outputs": [
    {
     "data": {
      "text/plain": [
       "['Attrition',\n",
       " 'BusinessTravel',\n",
       " 'Department',\n",
       " 'EducationField',\n",
       " 'Gender',\n",
       " 'JobRole',\n",
       " 'MaritalStatus',\n",
       " 'OverTime']"
      ]
     },
     "execution_count": 6,
     "metadata": {},
     "output_type": "execute_result"
    }
   ],
   "source": [
    "emp_df.select_dtypes(include=object).columns.to_list()"
   ]
  },
  {
   "cell_type": "code",
   "execution_count": null,
   "id": "b77d8f4d",
   "metadata": {
    "id": "b77d8f4d"
   },
   "outputs": [],
   "source": [
    "# One Hot Encoding for Categorical Variables\n",
    "from sklearn.preprocessing import OneHotEncoder\n",
    "X_cat = emp_df[['BusinessTravel','Department','EducationField','Gender','JobRole','MaritalStatus','OverTime']]\n",
    "ohe = OneHotEncoder()\n",
    "X_cat = ohe.fit_transform(X_cat).toarray()\n",
    "X_cat = pd.DataFrame(X_cat)\n",
    "\n",
    "X_num = emp_df.drop(['BusinessTravel','Department','EducationField','Gender',\n",
    "                     'JobRole','MaritalStatus','OverTime','Attrition'],axis=1)"
   ]
  },
  {
   "cell_type": "code",
   "execution_count": null,
   "id": "037f6212",
   "metadata": {
    "id": "037f6212"
   },
   "outputs": [],
   "source": [
    "X = pd.concat([X_cat,X_num],axis=1)\n",
    "y = emp_df['Attrition'].apply(lambda x: 1 if x == 'Yes' else 0)"
   ]
  },
  {
   "cell_type": "code",
   "execution_count": null,
   "id": "26902aa8",
   "metadata": {
    "id": "26902aa8"
   },
   "outputs": [],
   "source": [
    "from sklearn.model_selection import train_test_split\n",
    "X_train, X_test, y_train, y_test = train_test_split(X, y , train_size = 0.75, stratify = y)"
   ]
  },
  {
   "cell_type": "code",
   "execution_count": null,
   "id": "SRI6lM8hZjUE",
   "metadata": {
    "colab": {
     "base_uri": "https://localhost:8080/"
    },
    "executionInfo": {
     "elapsed": 24,
     "status": "ok",
     "timestamp": 1662360688513,
     "user": {
      "displayName": "hc lau",
      "userId": "10631895198423306395"
     },
     "user_tz": -480
    },
    "id": "SRI6lM8hZjUE",
    "outputId": "c77f96e2-cbd6-49a8-b530-27b7879707fc"
   },
   "outputs": [
    {
     "data": {
      "text/plain": [
       "((1102, 51), (368, 51))"
      ]
     },
     "execution_count": 10,
     "metadata": {},
     "output_type": "execute_result"
    }
   ],
   "source": [
    "X_train.shape, X_test.shape"
   ]
  },
  {
   "cell_type": "code",
   "execution_count": null,
   "id": "7837bb07",
   "metadata": {
    "id": "7837bb07"
   },
   "outputs": [],
   "source": [
    "# Normalize independent variables\n",
    "from sklearn.preprocessing import MinMaxScaler\n",
    "scaler = MinMaxScaler()\n",
    "X_train = scaler.fit_transform(X_train)\n",
    "X_test = scaler.transform(X_test)"
   ]
  },
  {
   "cell_type": "code",
   "execution_count": null,
   "id": "zbImKZ5SY48v",
   "metadata": {
    "id": "zbImKZ5SY48v"
   },
   "outputs": [],
   "source": [
    "import pickle\n",
    "pickle.dump(ohe, open('model/OneHotEncoder.pickle','wb'))\n",
    "pickle.dump(scaler, open('mode/MinMaxScaler.pickle','wb'))"
   ]
  },
  {
   "cell_type": "code",
   "execution_count": null,
   "id": "c3d3b571",
   "metadata": {
    "id": "c3d3b571"
   },
   "outputs": [],
   "source": [
    "from imblearn.combine import SMOTEENN\n",
    "smoteenn = SMOTEENN(random_state = 4)\n",
    "X_train, y_train = smoteenn.fit_resample(X_train, y_train)"
   ]
  },
  {
   "cell_type": "code",
   "execution_count": null,
   "id": "9361d43d",
   "metadata": {
    "colab": {
     "base_uri": "https://localhost:8080/"
    },
    "executionInfo": {
     "elapsed": 9,
     "status": "ok",
     "timestamp": 1662360748192,
     "user": {
      "displayName": "hc lau",
      "userId": "10631895198423306395"
     },
     "user_tz": -480
    },
    "id": "9361d43d",
    "outputId": "a30f491e-4480-4280-c401-83cb5c2ae5e7"
   },
   "outputs": [
    {
     "name": "stdout",
     "output_type": "stream",
     "text": [
      "Ratio of 'Yes' in Attrition Before SMOTE+ENN :  0.16\n",
      "Ratio of 'Yes' in Attrition After SMOTE+ENN : 0.62\n"
     ]
    }
   ],
   "source": [
    "print(\"Ratio of 'Yes' in Attrition Before SMOTE+ENN : \" , round(sum(y)/len(y),2))\n",
    "print(\"Ratio of 'Yes' in Attrition After SMOTE+ENN :\" , round(sum(y_train)/len(y_train),2))"
   ]
  },
  {
   "cell_type": "markdown",
   "id": "ea81cb82",
   "metadata": {
    "id": "ea81cb82"
   },
   "source": [
    "## Logistics Regression"
   ]
  },
  {
   "cell_type": "code",
   "execution_count": null,
   "id": "59b61492",
   "metadata": {
    "id": "59b61492"
   },
   "outputs": [],
   "source": [
    "from sklearn.linear_model import LogisticRegression"
   ]
  },
  {
   "cell_type": "code",
   "execution_count": null,
   "id": "4a4e80ce",
   "metadata": {
    "id": "4a4e80ce"
   },
   "outputs": [],
   "source": [
    "model_log = LogisticRegression(max_iter=1000)\n",
    "model_log.fit(X_train, y_train)\n",
    "\n",
    "y_pred_log = model_log.predict(X_test)"
   ]
  },
  {
   "cell_type": "code",
   "execution_count": null,
   "id": "0cb57ff9",
   "metadata": {
    "colab": {
     "base_uri": "https://localhost:8080/"
    },
    "executionInfo": {
     "elapsed": 11,
     "status": "ok",
     "timestamp": 1662360755905,
     "user": {
      "displayName": "hc lau",
      "userId": "10631895198423306395"
     },
     "user_tz": -480
    },
    "id": "0cb57ff9",
    "outputId": "dd13a0b8-76d3-4419-920c-7ebc9650cbe4"
   },
   "outputs": [
    {
     "name": "stdout",
     "output_type": "stream",
     "text": [
      "Accuracy:  65.761%\n",
      "\n",
      "\n",
      "Confusion Matrix: \n",
      " [[193  10]\n",
      " [116  49]]\n",
      "\n",
      "\n",
      "Classification Report: \n",
      "               precision    recall  f1-score   support\n",
      "\n",
      "           0       0.62      0.95      0.75       203\n",
      "           1       0.83      0.30      0.44       165\n",
      "\n",
      "    accuracy                           0.66       368\n",
      "   macro avg       0.73      0.62      0.60       368\n",
      "weighted avg       0.72      0.66      0.61       368\n",
      "\n"
     ]
    }
   ],
   "source": [
    "print(f'Accuracy: {100*accuracy_score(y_pred_log, y_test): .3f}%')\n",
    "print('\\n')\n",
    "print('Confusion Matrix: \\n', confusion_matrix(y_pred_log, y_test))\n",
    "print('\\n')\n",
    "print('Classification Report: \\n', classification_report(y_pred_log, y_test))"
   ]
  },
  {
   "cell_type": "markdown",
   "id": "bb32bad0",
   "metadata": {
    "id": "bb32bad0"
   },
   "source": [
    "## Random Forest"
   ]
  },
  {
   "cell_type": "code",
   "execution_count": null,
   "id": "493b284c",
   "metadata": {
    "id": "493b284c"
   },
   "outputs": [],
   "source": [
    "from  sklearn.ensemble import RandomForestClassifier"
   ]
  },
  {
   "cell_type": "code",
   "execution_count": null,
   "id": "27f607ae",
   "metadata": {
    "id": "27f607ae"
   },
   "outputs": [],
   "source": [
    "model_rf = RandomForestClassifier()\n",
    "model_rf.fit(X_train, y_train)\n",
    "\n",
    "y_pred_rf = model_rf.predict(X_test)"
   ]
  },
  {
   "cell_type": "code",
   "execution_count": null,
   "id": "9b318687",
   "metadata": {
    "colab": {
     "base_uri": "https://localhost:8080/"
    },
    "executionInfo": {
     "elapsed": 641,
     "status": "ok",
     "timestamp": 1662360757666,
     "user": {
      "displayName": "hc lau",
      "userId": "10631895198423306395"
     },
     "user_tz": -480
    },
    "id": "9b318687",
    "outputId": "01deed81-700e-4a06-f549-bafe91c2a0ca"
   },
   "outputs": [
    {
     "name": "stdout",
     "output_type": "stream",
     "text": [
      "Accuracy:  79.620%\n",
      "\n",
      "\n",
      "Confusion Matrix: \n",
      " [[261  27]\n",
      " [ 48  32]]\n",
      "\n",
      "\n",
      "Classification Report: \n",
      "               precision    recall  f1-score   support\n",
      "\n",
      "           0       0.84      0.91      0.87       288\n",
      "           1       0.54      0.40      0.46        80\n",
      "\n",
      "    accuracy                           0.80       368\n",
      "   macro avg       0.69      0.65      0.67       368\n",
      "weighted avg       0.78      0.80      0.78       368\n",
      "\n"
     ]
    }
   ],
   "source": [
    "print(f'Accuracy: {100*accuracy_score(y_pred_rf, y_test): .3f}%')\n",
    "print('\\n')\n",
    "print('Confusion Matrix: \\n', confusion_matrix(y_pred_rf, y_test))\n",
    "print('\\n')\n",
    "print('Classification Report: \\n', classification_report(y_pred_rf, y_test))"
   ]
  },
  {
   "cell_type": "markdown",
   "id": "af053046",
   "metadata": {
    "id": "af053046"
   },
   "source": [
    "## Artificial Neural Network"
   ]
  },
  {
   "cell_type": "code",
   "execution_count": null,
   "id": "2353dd6d",
   "metadata": {
    "id": "2353dd6d"
   },
   "outputs": [],
   "source": [
    "from keras.models import Sequential\n",
    "from keras.layers import Dense, Dropout"
   ]
  },
  {
   "cell_type": "code",
   "execution_count": null,
   "id": "222b2872",
   "metadata": {
    "id": "222b2872"
   },
   "outputs": [],
   "source": [
    "model_ann = Sequential()\n",
    "\n",
    "model_ann.add(Dense(units = 25, activation = 'relu', input_shape = (51,)))\n",
    "model_ann.add(Dense(units = 25, activation = 'relu'))\n",
    "model_ann.add(Dropout(0.5))\n",
    "model_ann.add(Dense(units = 25, activation = 'relu'))\n",
    "model_ann.add(Dropout(0.5))\n",
    "model_ann.add(Dense(units = 25, activation = 'relu'))  \n",
    "model_ann.add(Dropout(0.5))\n",
    "model_ann.add(Dense(units = 1, activation = 'sigmoid'))"
   ]
  },
  {
   "cell_type": "code",
   "execution_count": null,
   "id": "4288a77e",
   "metadata": {
    "colab": {
     "base_uri": "https://localhost:8080/"
    },
    "executionInfo": {
     "elapsed": 53,
     "status": "ok",
     "timestamp": 1662360765264,
     "user": {
      "displayName": "hc lau",
      "userId": "10631895198423306395"
     },
     "user_tz": -480
    },
    "id": "4288a77e",
    "outputId": "24df59bb-81cc-4f81-b69c-574f91e21781"
   },
   "outputs": [
    {
     "name": "stdout",
     "output_type": "stream",
     "text": [
      "Model: \"sequential\"\n",
      "_________________________________________________________________\n",
      " Layer (type)                Output Shape              Param #   \n",
      "=================================================================\n",
      " dense (Dense)               (None, 25)                1300      \n",
      "                                                                 \n",
      " dense_1 (Dense)             (None, 25)                650       \n",
      "                                                                 \n",
      " dropout (Dropout)           (None, 25)                0         \n",
      "                                                                 \n",
      " dense_2 (Dense)             (None, 25)                650       \n",
      "                                                                 \n",
      " dropout_1 (Dropout)         (None, 25)                0         \n",
      "                                                                 \n",
      " dense_3 (Dense)             (None, 25)                650       \n",
      "                                                                 \n",
      " dropout_2 (Dropout)         (None, 25)                0         \n",
      "                                                                 \n",
      " dense_4 (Dense)             (None, 1)                 26        \n",
      "                                                                 \n",
      "=================================================================\n",
      "Total params: 3,276\n",
      "Trainable params: 3,276\n",
      "Non-trainable params: 0\n",
      "_________________________________________________________________\n"
     ]
    }
   ],
   "source": [
    "model_ann.summary()"
   ]
  },
  {
   "cell_type": "code",
   "execution_count": null,
   "id": "83cf3efc",
   "metadata": {
    "colab": {
     "base_uri": "https://localhost:8080/"
    },
    "executionInfo": {
     "elapsed": 18122,
     "status": "ok",
     "timestamp": 1662360783361,
     "user": {
      "displayName": "hc lau",
      "userId": "10631895198423306395"
     },
     "user_tz": -480
    },
    "id": "83cf3efc",
    "outputId": "26c95377-71d5-48f3-dc1a-d5ac059bf3ab"
   },
   "outputs": [
    {
     "name": "stdout",
     "output_type": "stream",
     "text": [
      "Epoch 1/100\n",
      "29/29 [==============================] - 3s 3ms/step - loss: 0.6843 - accuracy: 0.5573\n",
      "Epoch 2/100\n",
      "29/29 [==============================] - 0s 3ms/step - loss: 0.6660 - accuracy: 0.6178\n",
      "Epoch 3/100\n",
      "29/29 [==============================] - 0s 3ms/step - loss: 0.6429 - accuracy: 0.6421\n",
      "Epoch 4/100\n",
      "29/29 [==============================] - 0s 3ms/step - loss: 0.6023 - accuracy: 0.6713\n",
      "Epoch 5/100\n",
      "29/29 [==============================] - 0s 3ms/step - loss: 0.5511 - accuracy: 0.7137\n",
      "Epoch 6/100\n",
      "29/29 [==============================] - 0s 3ms/step - loss: 0.4957 - accuracy: 0.7630\n",
      "Epoch 7/100\n",
      "29/29 [==============================] - 0s 3ms/step - loss: 0.4518 - accuracy: 0.7867\n",
      "Epoch 8/100\n",
      "29/29 [==============================] - 0s 3ms/step - loss: 0.4047 - accuracy: 0.8235\n",
      "Epoch 9/100\n",
      "29/29 [==============================] - 0s 3ms/step - loss: 0.3803 - accuracy: 0.8346\n",
      "Epoch 10/100\n",
      "29/29 [==============================] - 0s 3ms/step - loss: 0.3324 - accuracy: 0.8513\n",
      "Epoch 11/100\n",
      "29/29 [==============================] - 0s 3ms/step - loss: 0.3335 - accuracy: 0.8687\n",
      "Epoch 12/100\n",
      "29/29 [==============================] - 0s 3ms/step - loss: 0.3159 - accuracy: 0.8763\n",
      "Epoch 13/100\n",
      "29/29 [==============================] - 0s 3ms/step - loss: 0.2864 - accuracy: 0.8791\n",
      "Epoch 14/100\n",
      "29/29 [==============================] - 0s 3ms/step - loss: 0.2745 - accuracy: 0.9034\n",
      "Epoch 15/100\n",
      "29/29 [==============================] - 0s 3ms/step - loss: 0.2621 - accuracy: 0.8958\n",
      "Epoch 16/100\n",
      "29/29 [==============================] - 0s 3ms/step - loss: 0.2510 - accuracy: 0.9083\n",
      "Epoch 17/100\n",
      "29/29 [==============================] - 0s 4ms/step - loss: 0.2152 - accuracy: 0.9083\n",
      "Epoch 18/100\n",
      "29/29 [==============================] - 0s 3ms/step - loss: 0.2072 - accuracy: 0.9215\n",
      "Epoch 19/100\n",
      "29/29 [==============================] - 0s 3ms/step - loss: 0.1942 - accuracy: 0.9236\n",
      "Epoch 20/100\n",
      "29/29 [==============================] - 0s 3ms/step - loss: 0.1902 - accuracy: 0.9229\n",
      "Epoch 21/100\n",
      "29/29 [==============================] - 0s 3ms/step - loss: 0.1995 - accuracy: 0.9312\n",
      "Epoch 22/100\n",
      "29/29 [==============================] - 0s 3ms/step - loss: 0.1670 - accuracy: 0.9409\n",
      "Epoch 23/100\n",
      "29/29 [==============================] - 0s 3ms/step - loss: 0.1698 - accuracy: 0.9402\n",
      "Epoch 24/100\n",
      "29/29 [==============================] - 0s 3ms/step - loss: 0.1462 - accuracy: 0.9430\n",
      "Epoch 25/100\n",
      "29/29 [==============================] - 0s 3ms/step - loss: 0.1558 - accuracy: 0.9479\n",
      "Epoch 26/100\n",
      "29/29 [==============================] - 0s 3ms/step - loss: 0.1459 - accuracy: 0.9527\n",
      "Epoch 27/100\n",
      "29/29 [==============================] - 0s 3ms/step - loss: 0.1377 - accuracy: 0.9597\n",
      "Epoch 28/100\n",
      "29/29 [==============================] - 0s 3ms/step - loss: 0.1093 - accuracy: 0.9639\n",
      "Epoch 29/100\n",
      "29/29 [==============================] - 0s 3ms/step - loss: 0.1052 - accuracy: 0.9639\n",
      "Epoch 30/100\n",
      "29/29 [==============================] - 0s 3ms/step - loss: 0.0924 - accuracy: 0.9694\n",
      "Epoch 31/100\n",
      "29/29 [==============================] - 0s 3ms/step - loss: 0.0907 - accuracy: 0.9708\n",
      "Epoch 32/100\n",
      "29/29 [==============================] - 0s 3ms/step - loss: 0.0993 - accuracy: 0.9687\n",
      "Epoch 33/100\n",
      "29/29 [==============================] - 0s 3ms/step - loss: 0.1087 - accuracy: 0.9687\n",
      "Epoch 34/100\n",
      "29/29 [==============================] - 0s 3ms/step - loss: 0.0910 - accuracy: 0.9750\n",
      "Epoch 35/100\n",
      "29/29 [==============================] - 0s 3ms/step - loss: 0.0665 - accuracy: 0.9798\n",
      "Epoch 36/100\n",
      "29/29 [==============================] - 0s 3ms/step - loss: 0.0774 - accuracy: 0.9750\n",
      "Epoch 37/100\n",
      "29/29 [==============================] - 0s 3ms/step - loss: 0.0738 - accuracy: 0.9792\n",
      "Epoch 38/100\n",
      "29/29 [==============================] - 0s 3ms/step - loss: 0.0715 - accuracy: 0.9798\n",
      "Epoch 39/100\n",
      "29/29 [==============================] - 0s 3ms/step - loss: 0.0624 - accuracy: 0.9847\n",
      "Epoch 40/100\n",
      "29/29 [==============================] - 0s 3ms/step - loss: 0.0650 - accuracy: 0.9847\n",
      "Epoch 41/100\n",
      "29/29 [==============================] - 0s 3ms/step - loss: 0.0687 - accuracy: 0.9798\n",
      "Epoch 42/100\n",
      "29/29 [==============================] - 0s 3ms/step - loss: 0.0599 - accuracy: 0.9826\n",
      "Epoch 43/100\n",
      "29/29 [==============================] - 0s 3ms/step - loss: 0.0490 - accuracy: 0.9861\n",
      "Epoch 44/100\n",
      "29/29 [==============================] - 0s 3ms/step - loss: 0.0477 - accuracy: 0.9854\n",
      "Epoch 45/100\n",
      "29/29 [==============================] - 0s 3ms/step - loss: 0.0606 - accuracy: 0.9861\n",
      "Epoch 46/100\n",
      "29/29 [==============================] - 0s 3ms/step - loss: 0.0504 - accuracy: 0.9861\n",
      "Epoch 47/100\n",
      "29/29 [==============================] - 0s 3ms/step - loss: 0.0465 - accuracy: 0.9889\n",
      "Epoch 48/100\n",
      "29/29 [==============================] - 0s 3ms/step - loss: 0.0384 - accuracy: 0.9875\n",
      "Epoch 49/100\n",
      "29/29 [==============================] - 0s 3ms/step - loss: 0.0521 - accuracy: 0.9896\n",
      "Epoch 50/100\n",
      "29/29 [==============================] - 0s 3ms/step - loss: 0.0414 - accuracy: 0.9896\n",
      "Epoch 51/100\n",
      "29/29 [==============================] - 0s 3ms/step - loss: 0.0431 - accuracy: 0.9889\n",
      "Epoch 52/100\n",
      "29/29 [==============================] - 0s 3ms/step - loss: 0.0404 - accuracy: 0.9903\n",
      "Epoch 53/100\n",
      "29/29 [==============================] - 0s 3ms/step - loss: 0.0366 - accuracy: 0.9910\n",
      "Epoch 54/100\n",
      "29/29 [==============================] - 0s 3ms/step - loss: 0.0476 - accuracy: 0.9840\n",
      "Epoch 55/100\n",
      "29/29 [==============================] - 0s 3ms/step - loss: 0.0417 - accuracy: 0.9896\n",
      "Epoch 56/100\n",
      "29/29 [==============================] - 0s 3ms/step - loss: 0.0343 - accuracy: 0.9931\n",
      "Epoch 57/100\n",
      "29/29 [==============================] - 0s 3ms/step - loss: 0.0256 - accuracy: 0.9958\n",
      "Epoch 58/100\n",
      "29/29 [==============================] - 0s 3ms/step - loss: 0.0316 - accuracy: 0.9910\n",
      "Epoch 59/100\n",
      "29/29 [==============================] - 0s 3ms/step - loss: 0.0345 - accuracy: 0.9889\n",
      "Epoch 60/100\n",
      "29/29 [==============================] - 0s 3ms/step - loss: 0.0285 - accuracy: 0.9937\n",
      "Epoch 61/100\n",
      "29/29 [==============================] - 0s 3ms/step - loss: 0.0345 - accuracy: 0.9937\n",
      "Epoch 62/100\n",
      "29/29 [==============================] - 0s 3ms/step - loss: 0.0275 - accuracy: 0.9965\n",
      "Epoch 63/100\n",
      "29/29 [==============================] - 0s 3ms/step - loss: 0.0231 - accuracy: 0.9951\n",
      "Epoch 64/100\n",
      "29/29 [==============================] - 0s 3ms/step - loss: 0.0188 - accuracy: 0.9951\n",
      "Epoch 65/100\n",
      "29/29 [==============================] - 0s 3ms/step - loss: 0.0178 - accuracy: 0.9972\n",
      "Epoch 66/100\n",
      "29/29 [==============================] - 0s 3ms/step - loss: 0.0275 - accuracy: 0.9917\n",
      "Epoch 67/100\n",
      "29/29 [==============================] - 0s 3ms/step - loss: 0.0400 - accuracy: 0.9917\n",
      "Epoch 68/100\n",
      "29/29 [==============================] - 0s 3ms/step - loss: 0.0273 - accuracy: 0.9931\n",
      "Epoch 69/100\n",
      "29/29 [==============================] - 0s 3ms/step - loss: 0.0220 - accuracy: 0.9958\n",
      "Epoch 70/100\n",
      "29/29 [==============================] - 0s 3ms/step - loss: 0.0337 - accuracy: 0.9896\n",
      "Epoch 71/100\n",
      "29/29 [==============================] - 0s 3ms/step - loss: 0.0334 - accuracy: 0.9896\n",
      "Epoch 72/100\n",
      "29/29 [==============================] - 0s 3ms/step - loss: 0.0186 - accuracy: 0.9958\n",
      "Epoch 73/100\n",
      "29/29 [==============================] - 0s 3ms/step - loss: 0.0281 - accuracy: 0.9951\n",
      "Epoch 74/100\n",
      "29/29 [==============================] - 0s 3ms/step - loss: 0.0150 - accuracy: 0.9979\n",
      "Epoch 75/100\n",
      "29/29 [==============================] - 0s 3ms/step - loss: 0.0157 - accuracy: 0.9986\n",
      "Epoch 76/100\n",
      "29/29 [==============================] - 0s 3ms/step - loss: 0.0258 - accuracy: 0.9944\n",
      "Epoch 77/100\n",
      "29/29 [==============================] - 0s 3ms/step - loss: 0.0282 - accuracy: 0.9924\n",
      "Epoch 78/100\n",
      "29/29 [==============================] - 0s 3ms/step - loss: 0.0201 - accuracy: 0.9951\n",
      "Epoch 79/100\n",
      "29/29 [==============================] - 0s 3ms/step - loss: 0.0236 - accuracy: 0.9944\n",
      "Epoch 80/100\n",
      "29/29 [==============================] - 0s 3ms/step - loss: 0.0159 - accuracy: 0.9979\n",
      "Epoch 81/100\n",
      "29/29 [==============================] - 0s 3ms/step - loss: 0.0104 - accuracy: 0.9986\n",
      "Epoch 82/100\n",
      "29/29 [==============================] - 0s 3ms/step - loss: 0.0132 - accuracy: 0.9979\n",
      "Epoch 83/100\n",
      "29/29 [==============================] - 0s 3ms/step - loss: 0.0132 - accuracy: 0.9965\n",
      "Epoch 84/100\n",
      "29/29 [==============================] - 0s 3ms/step - loss: 0.0185 - accuracy: 0.9951\n",
      "Epoch 85/100\n",
      "29/29 [==============================] - 0s 3ms/step - loss: 0.0109 - accuracy: 0.9979\n",
      "Epoch 86/100\n",
      "29/29 [==============================] - 0s 3ms/step - loss: 0.0162 - accuracy: 0.9958\n",
      "Epoch 87/100\n",
      "29/29 [==============================] - 0s 3ms/step - loss: 0.0230 - accuracy: 0.9931\n",
      "Epoch 88/100\n",
      "29/29 [==============================] - 0s 3ms/step - loss: 0.0280 - accuracy: 0.9917\n",
      "Epoch 89/100\n",
      "29/29 [==============================] - 0s 3ms/step - loss: 0.0192 - accuracy: 0.9951\n",
      "Epoch 90/100\n",
      "29/29 [==============================] - 0s 3ms/step - loss: 0.0231 - accuracy: 0.9931\n",
      "Epoch 91/100\n",
      "29/29 [==============================] - 0s 3ms/step - loss: 0.0188 - accuracy: 0.9965\n",
      "Epoch 92/100\n",
      "29/29 [==============================] - 0s 3ms/step - loss: 0.0145 - accuracy: 0.9972\n",
      "Epoch 93/100\n",
      "29/29 [==============================] - 0s 3ms/step - loss: 0.0167 - accuracy: 0.9972\n",
      "Epoch 94/100\n",
      "29/29 [==============================] - 0s 3ms/step - loss: 0.0135 - accuracy: 0.9958\n",
      "Epoch 95/100\n",
      "29/29 [==============================] - 0s 3ms/step - loss: 0.0134 - accuracy: 0.9972\n",
      "Epoch 96/100\n",
      "29/29 [==============================] - 0s 3ms/step - loss: 0.0091 - accuracy: 0.9986\n",
      "Epoch 97/100\n",
      "29/29 [==============================] - 0s 3ms/step - loss: 0.0113 - accuracy: 0.9972\n",
      "Epoch 98/100\n",
      "29/29 [==============================] - 0s 3ms/step - loss: 0.0397 - accuracy: 0.9882\n",
      "Epoch 99/100\n",
      "29/29 [==============================] - 0s 3ms/step - loss: 0.0389 - accuracy: 0.9903\n",
      "Epoch 100/100\n",
      "29/29 [==============================] - 0s 3ms/step - loss: 0.0163 - accuracy: 0.9979\n"
     ]
    }
   ],
   "source": [
    "model_ann.compile(optimizer = 'Adam', loss = 'binary_crossentropy', metrics='accuracy')\n",
    "hist = model_ann.fit(X_train, y_train, epochs=100, batch_size = 50)"
   ]
  },
  {
   "cell_type": "code",
   "execution_count": null,
   "id": "cca2ccda",
   "metadata": {
    "id": "cca2ccda"
   },
   "outputs": [],
   "source": [
    "y_pred_ann = model_ann.predict(X_test)\n",
    "y_pred_ann = (y_pred_ann > 0.5)"
   ]
  },
  {
   "cell_type": "code",
   "execution_count": null,
   "id": "5401b5cd",
   "metadata": {
    "colab": {
     "base_uri": "https://localhost:8080/"
    },
    "executionInfo": {
     "elapsed": 47,
     "status": "ok",
     "timestamp": 1662360783364,
     "user": {
      "displayName": "hc lau",
      "userId": "10631895198423306395"
     },
     "user_tz": -480
    },
    "id": "5401b5cd",
    "outputId": "a090c3d4-67d2-4418-bafd-67092fa85110"
   },
   "outputs": [
    {
     "name": "stdout",
     "output_type": "stream",
     "text": [
      "Accuracy:  76.087%\n",
      "\n",
      "\n",
      "Confusion Matrix: \n",
      " [[243  22]\n",
      " [ 66  37]]\n",
      "\n",
      "\n",
      "Classification Report: \n",
      "               precision    recall  f1-score   support\n",
      "\n",
      "       False       0.79      0.92      0.85       265\n",
      "        True       0.63      0.36      0.46       103\n",
      "\n",
      "    accuracy                           0.76       368\n",
      "   macro avg       0.71      0.64      0.65       368\n",
      "weighted avg       0.74      0.76      0.74       368\n",
      "\n"
     ]
    }
   ],
   "source": [
    "print(f'Accuracy: {100*accuracy_score(y_pred_ann, y_test): .3f}%')\n",
    "print('\\n')\n",
    "print('Confusion Matrix: \\n', confusion_matrix(y_pred_ann, y_test))\n",
    "print('\\n')\n",
    "print('Classification Report: \\n', classification_report(y_pred_ann, y_test))"
   ]
  },
  {
   "cell_type": "markdown",
   "id": "c67cf294",
   "metadata": {
    "id": "c67cf294"
   },
   "source": [
    "We can choose Random Forest Classifier and ANN to next stage : Hyper Parameter Tuning."
   ]
  },
  {
   "cell_type": "markdown",
   "id": "4b0e3d89",
   "metadata": {
    "id": "4b0e3d89"
   },
   "source": [
    "## Hyper Parameter Tuning"
   ]
  },
  {
   "cell_type": "markdown",
   "id": "e467894a",
   "metadata": {
    "id": "e467894a"
   },
   "source": [
    "### Random Forest"
   ]
  },
  {
   "cell_type": "code",
   "execution_count": null,
   "id": "12831a17",
   "metadata": {
    "colab": {
     "base_uri": "https://localhost:8080/"
    },
    "executionInfo": {
     "elapsed": 40,
     "status": "ok",
     "timestamp": 1662360783365,
     "user": {
      "displayName": "hc lau",
      "userId": "10631895198423306395"
     },
     "user_tz": -480
    },
    "id": "12831a17",
    "outputId": "655425b5-69ba-4880-a386-a7859727932a"
   },
   "outputs": [
    {
     "data": {
      "text/plain": [
       "{'bootstrap': True,\n",
       " 'ccp_alpha': 0.0,\n",
       " 'class_weight': None,\n",
       " 'criterion': 'gini',\n",
       " 'max_depth': None,\n",
       " 'max_features': 'auto',\n",
       " 'max_leaf_nodes': None,\n",
       " 'max_samples': None,\n",
       " 'min_impurity_decrease': 0.0,\n",
       " 'min_samples_leaf': 1,\n",
       " 'min_samples_split': 2,\n",
       " 'min_weight_fraction_leaf': 0.0,\n",
       " 'n_estimators': 100,\n",
       " 'n_jobs': None,\n",
       " 'oob_score': False,\n",
       " 'random_state': None,\n",
       " 'verbose': 0,\n",
       " 'warm_start': False}"
      ]
     },
     "execution_count": 29,
     "metadata": {},
     "output_type": "execute_result"
    }
   ],
   "source": [
    "model_rf.get_params()"
   ]
  },
  {
   "cell_type": "code",
   "execution_count": null,
   "id": "3718e4a0",
   "metadata": {
    "id": "3718e4a0"
   },
   "outputs": [],
   "source": [
    "from sklearn.model_selection import GridSearchCV\n",
    "\n",
    "model_rf_gs = RandomForestClassifier()\n",
    "\n",
    "param_grid = {\n",
    "    'bootstrap': [True, False],\n",
    "    'max_depth': [None, 90, 100, 110],\n",
    "    'max_features': [2, 3, 'auto','sqrt'],\n",
    "    'min_samples_leaf': [1, 3, 5],\n",
    "    'min_samples_split': [2, 5, 10],\n",
    "    'n_estimators': [100, 300, 500]\n",
    "}\n",
    "\n",
    "grid_search_rf = GridSearchCV(estimator = model_rf_gs, param_grid = param_grid, \n",
    "                          cv = 3, n_jobs = -1, verbose = 2)"
   ]
  },
  {
   "cell_type": "code",
   "execution_count": null,
   "id": "d9c41169",
   "metadata": {
    "colab": {
     "base_uri": "https://localhost:8080/"
    },
    "executionInfo": {
     "elapsed": 1253170,
     "status": "ok",
     "timestamp": 1662362712127,
     "user": {
      "displayName": "hc lau",
      "userId": "10631895198423306395"
     },
     "user_tz": -480
    },
    "id": "d9c41169",
    "outputId": "905c69ea-03a4-4c4b-dab0-599ef3de8a50"
   },
   "outputs": [
    {
     "name": "stdout",
     "output_type": "stream",
     "text": [
      "Fitting 3 folds for each of 864 candidates, totalling 2592 fits\n"
     ]
    },
    {
     "data": {
      "text/plain": [
       "GridSearchCV(cv=3, estimator=RandomForestClassifier(), n_jobs=-1,\n",
       "             param_grid={'bootstrap': [True, False],\n",
       "                         'max_depth': [None, 90, 100, 110],\n",
       "                         'max_features': [2, 3, 'auto', 'sqrt'],\n",
       "                         'min_samples_leaf': [1, 3, 5],\n",
       "                         'min_samples_split': [2, 5, 10],\n",
       "                         'n_estimators': [100, 300, 500]},\n",
       "             verbose=2)"
      ]
     },
     "execution_count": 36,
     "metadata": {},
     "output_type": "execute_result"
    }
   ],
   "source": [
    "grid_search_rf.fit(X_train,y_train)"
   ]
  },
  {
   "cell_type": "code",
   "execution_count": null,
   "id": "0a924f74",
   "metadata": {
    "colab": {
     "base_uri": "https://localhost:8080/"
    },
    "executionInfo": {
     "elapsed": 318,
     "status": "ok",
     "timestamp": 1662363068778,
     "user": {
      "displayName": "hc lau",
      "userId": "10631895198423306395"
     },
     "user_tz": -480
    },
    "id": "0a924f74",
    "outputId": "c80d2d51-bdc5-4c09-9d98-7820945df318"
   },
   "outputs": [
    {
     "data": {
      "text/plain": [
       "{'bootstrap': False,\n",
       " 'max_depth': 100,\n",
       " 'max_features': 2,\n",
       " 'min_samples_leaf': 1,\n",
       " 'min_samples_split': 2,\n",
       " 'n_estimators': 300}"
      ]
     },
     "execution_count": 37,
     "metadata": {},
     "output_type": "execute_result"
    }
   ],
   "source": [
    "grid_search_rf.best_params_"
   ]
  },
  {
   "cell_type": "code",
   "execution_count": null,
   "id": "3mygVEwK19Ib",
   "metadata": {
    "id": "3mygVEwK19Ib"
   },
   "outputs": [],
   "source": [
    "model_rf_bg = grid_search_rf.best_estimator_\n",
    "y_pred_rf_bg = model_rf_bg.predict(X_test)"
   ]
  },
  {
   "cell_type": "code",
   "execution_count": null,
   "id": "T75gk1LYDFFu",
   "metadata": {
    "colab": {
     "base_uri": "https://localhost:8080/"
    },
    "executionInfo": {
     "elapsed": 284,
     "status": "ok",
     "timestamp": 1662363073594,
     "user": {
      "displayName": "hc lau",
      "userId": "10631895198423306395"
     },
     "user_tz": -480
    },
    "id": "T75gk1LYDFFu",
    "outputId": "e91df0cf-898a-4f84-9529-699f40b2c9fc"
   },
   "outputs": [
    {
     "name": "stdout",
     "output_type": "stream",
     "text": [
      "Accuracy:  83.967%\n"
     ]
    }
   ],
   "source": [
    "print(f'Accuracy: {100*accuracy_score(y_pred_rf_bg, y_test): .3f}%')"
   ]
  },
  {
   "cell_type": "markdown",
   "id": "pG2VhSfxGtXy",
   "metadata": {
    "id": "pG2VhSfxGtXy"
   },
   "source": [
    "### Artificial Neural Network"
   ]
  },
  {
   "cell_type": "code",
   "execution_count": null,
   "id": "rqT9zr-K83r1",
   "metadata": {
    "id": "rqT9zr-K83r1"
   },
   "outputs": [],
   "source": [
    "from keras.wrappers.scikit_learn import KerasClassifier\n",
    "from sklearn.model_selection import cross_val_score\n",
    "\n",
    "def build_classifier(loss, optimizer):\n",
    "    classifier = Sequential()\n",
    "    classifier.add(Dense(units = 25, activation = 'relu', input_shape = (51,)))\n",
    "    classifier.add(Dense(units = 25, activation = 'relu'))\n",
    "    classifier.add(Dropout(0.5))\n",
    "    classifier.add(Dense(units = 25, activation = 'relu'))\n",
    "    classifier.add(Dropout(0.5))\n",
    "    classifier.add(Dense(units = 25, activation = 'relu'))\n",
    "    classifier.add(Dropout(0.5))\n",
    "    classifier.add(Dense(units = 1, activation = 'sigmoid'))\n",
    "    classifier.compile(optimizer = optimizer, loss = loss, metrics = ['accuracy'])\n",
    "    return classifier\n",
    "\n",
    "\n",
    "model_ann_gs = KerasClassifier(build_fn = build_classifier)\n",
    "\n",
    "param_grid1 = {'batch_size': [20,30,50], 'epochs': [50,100,200],'loss': ['binary_crossentropy', 'mean_squared_error'], 'optimizer' : ['adam', 'rmsprop']}"
   ]
  },
  {
   "cell_type": "code",
   "execution_count": null,
   "id": "SZ33tdpQAzQ-",
   "metadata": {
    "colab": {
     "base_uri": "https://localhost:8080/"
    },
    "executionInfo": {
     "elapsed": 1128306,
     "status": "ok",
     "timestamp": 1662364241200,
     "user": {
      "displayName": "hc lau",
      "userId": "10631895198423306395"
     },
     "user_tz": -480
    },
    "id": "SZ33tdpQAzQ-",
    "outputId": "d3ab91f6-db8e-4d6f-ac8d-8f2b83ce630d"
   },
   "outputs": [
    {
     "name": "stdout",
     "output_type": "stream",
     "text": [
      "Fitting 3 folds for each of 36 candidates, totalling 108 fits\n",
      "Epoch 1/200\n",
      "29/29 [==============================] - 1s 3ms/step - loss: 0.6946 - accuracy: 0.5608\n",
      "Epoch 2/200\n",
      "29/29 [==============================] - 0s 3ms/step - loss: 0.6597 - accuracy: 0.5997\n",
      "Epoch 3/200\n",
      "29/29 [==============================] - 0s 3ms/step - loss: 0.6363 - accuracy: 0.6136\n",
      "Epoch 4/200\n",
      "29/29 [==============================] - 0s 3ms/step - loss: 0.6100 - accuracy: 0.6192\n",
      "Epoch 5/200\n",
      "29/29 [==============================] - 0s 3ms/step - loss: 0.5927 - accuracy: 0.6220\n",
      "Epoch 6/200\n",
      "29/29 [==============================] - 0s 3ms/step - loss: 0.5586 - accuracy: 0.6275\n",
      "Epoch 7/200\n",
      "29/29 [==============================] - 0s 3ms/step - loss: 0.5235 - accuracy: 0.6400\n",
      "Epoch 8/200\n",
      "29/29 [==============================] - 0s 3ms/step - loss: 0.4925 - accuracy: 0.7067\n",
      "Epoch 9/200\n",
      "29/29 [==============================] - 0s 3ms/step - loss: 0.4872 - accuracy: 0.7797\n",
      "Epoch 10/200\n",
      "29/29 [==============================] - 0s 3ms/step - loss: 0.4617 - accuracy: 0.8075\n",
      "Epoch 11/200\n",
      "29/29 [==============================] - 0s 3ms/step - loss: 0.4349 - accuracy: 0.8249\n",
      "Epoch 12/200\n",
      "29/29 [==============================] - 0s 3ms/step - loss: 0.4294 - accuracy: 0.8527\n",
      "Epoch 13/200\n",
      "29/29 [==============================] - 0s 3ms/step - loss: 0.3965 - accuracy: 0.8610\n",
      "Epoch 14/200\n",
      "29/29 [==============================] - 0s 3ms/step - loss: 0.3823 - accuracy: 0.8666\n",
      "Epoch 15/200\n",
      "29/29 [==============================] - 0s 3ms/step - loss: 0.3670 - accuracy: 0.8735\n",
      "Epoch 16/200\n",
      "29/29 [==============================] - 0s 3ms/step - loss: 0.3459 - accuracy: 0.8707\n",
      "Epoch 17/200\n",
      "29/29 [==============================] - 0s 3ms/step - loss: 0.3259 - accuracy: 0.8756\n",
      "Epoch 18/200\n",
      "29/29 [==============================] - 0s 3ms/step - loss: 0.3189 - accuracy: 0.8867\n",
      "Epoch 19/200\n",
      "29/29 [==============================] - 0s 3ms/step - loss: 0.3205 - accuracy: 0.8895\n",
      "Epoch 20/200\n",
      "29/29 [==============================] - 0s 3ms/step - loss: 0.3065 - accuracy: 0.8867\n",
      "Epoch 21/200\n",
      "29/29 [==============================] - 0s 3ms/step - loss: 0.3040 - accuracy: 0.8846\n",
      "Epoch 22/200\n",
      "29/29 [==============================] - 0s 3ms/step - loss: 0.2980 - accuracy: 0.8937\n",
      "Epoch 23/200\n",
      "29/29 [==============================] - 0s 3ms/step - loss: 0.2981 - accuracy: 0.8965\n",
      "Epoch 24/200\n",
      "29/29 [==============================] - 0s 3ms/step - loss: 0.2810 - accuracy: 0.8999\n",
      "Epoch 25/200\n",
      "29/29 [==============================] - 0s 3ms/step - loss: 0.2811 - accuracy: 0.9097\n",
      "Epoch 26/200\n",
      "29/29 [==============================] - 0s 3ms/step - loss: 0.2687 - accuracy: 0.9041\n",
      "Epoch 27/200\n",
      "29/29 [==============================] - 0s 3ms/step - loss: 0.2637 - accuracy: 0.9138\n",
      "Epoch 28/200\n",
      "29/29 [==============================] - 0s 3ms/step - loss: 0.2600 - accuracy: 0.9117\n",
      "Epoch 29/200\n",
      "29/29 [==============================] - 0s 3ms/step - loss: 0.2391 - accuracy: 0.9180\n",
      "Epoch 30/200\n",
      "29/29 [==============================] - 0s 3ms/step - loss: 0.2379 - accuracy: 0.9256\n",
      "Epoch 31/200\n",
      "29/29 [==============================] - 0s 3ms/step - loss: 0.2133 - accuracy: 0.9319\n",
      "Epoch 32/200\n",
      "29/29 [==============================] - 0s 3ms/step - loss: 0.2015 - accuracy: 0.9236\n",
      "Epoch 33/200\n",
      "29/29 [==============================] - 0s 3ms/step - loss: 0.1856 - accuracy: 0.9312\n",
      "Epoch 34/200\n",
      "29/29 [==============================] - 0s 3ms/step - loss: 0.1942 - accuracy: 0.9402\n",
      "Epoch 35/200\n",
      "29/29 [==============================] - 0s 3ms/step - loss: 0.1757 - accuracy: 0.9375\n",
      "Epoch 36/200\n",
      "29/29 [==============================] - 0s 3ms/step - loss: 0.1681 - accuracy: 0.9395\n",
      "Epoch 37/200\n",
      "29/29 [==============================] - 0s 3ms/step - loss: 0.1464 - accuracy: 0.9486\n",
      "Epoch 38/200\n",
      "29/29 [==============================] - 0s 3ms/step - loss: 0.1669 - accuracy: 0.9423\n",
      "Epoch 39/200\n",
      "29/29 [==============================] - 0s 3ms/step - loss: 0.1385 - accuracy: 0.9493\n",
      "Epoch 40/200\n",
      "29/29 [==============================] - 0s 3ms/step - loss: 0.1329 - accuracy: 0.9562\n",
      "Epoch 41/200\n",
      "29/29 [==============================] - 0s 3ms/step - loss: 0.1188 - accuracy: 0.9576\n",
      "Epoch 42/200\n",
      "29/29 [==============================] - 0s 3ms/step - loss: 0.1156 - accuracy: 0.9646\n",
      "Epoch 43/200\n",
      "29/29 [==============================] - 0s 3ms/step - loss: 0.1127 - accuracy: 0.9611\n",
      "Epoch 44/200\n",
      "29/29 [==============================] - 0s 3ms/step - loss: 0.1123 - accuracy: 0.9618\n",
      "Epoch 45/200\n",
      "29/29 [==============================] - 0s 3ms/step - loss: 0.1093 - accuracy: 0.9659\n",
      "Epoch 46/200\n",
      "29/29 [==============================] - 0s 3ms/step - loss: 0.0912 - accuracy: 0.9708\n",
      "Epoch 47/200\n",
      "29/29 [==============================] - 0s 3ms/step - loss: 0.0997 - accuracy: 0.9666\n",
      "Epoch 48/200\n",
      "29/29 [==============================] - 0s 3ms/step - loss: 0.0968 - accuracy: 0.9673\n",
      "Epoch 49/200\n",
      "29/29 [==============================] - 0s 3ms/step - loss: 0.0863 - accuracy: 0.9771\n",
      "Epoch 50/200\n",
      "29/29 [==============================] - 0s 3ms/step - loss: 0.0955 - accuracy: 0.9639\n",
      "Epoch 51/200\n",
      "29/29 [==============================] - 0s 3ms/step - loss: 0.0761 - accuracy: 0.9785\n",
      "Epoch 52/200\n",
      "29/29 [==============================] - 0s 3ms/step - loss: 0.0781 - accuracy: 0.9743\n",
      "Epoch 53/200\n",
      "29/29 [==============================] - 0s 3ms/step - loss: 0.0733 - accuracy: 0.9785\n",
      "Epoch 54/200\n",
      "29/29 [==============================] - 0s 3ms/step - loss: 0.0802 - accuracy: 0.9785\n",
      "Epoch 55/200\n",
      "29/29 [==============================] - 0s 3ms/step - loss: 0.0626 - accuracy: 0.9840\n",
      "Epoch 56/200\n",
      "29/29 [==============================] - 0s 3ms/step - loss: 0.0600 - accuracy: 0.9833\n",
      "Epoch 57/200\n",
      "29/29 [==============================] - 0s 3ms/step - loss: 0.0555 - accuracy: 0.9819\n",
      "Epoch 58/200\n",
      "29/29 [==============================] - 0s 3ms/step - loss: 0.0588 - accuracy: 0.9778\n",
      "Epoch 59/200\n",
      "29/29 [==============================] - 0s 3ms/step - loss: 0.0531 - accuracy: 0.9826\n",
      "Epoch 60/200\n",
      "29/29 [==============================] - 0s 3ms/step - loss: 0.0634 - accuracy: 0.9792\n",
      "Epoch 61/200\n",
      "29/29 [==============================] - 0s 3ms/step - loss: 0.0563 - accuracy: 0.9833\n",
      "Epoch 62/200\n",
      "29/29 [==============================] - 0s 3ms/step - loss: 0.0417 - accuracy: 0.9924\n",
      "Epoch 63/200\n",
      "29/29 [==============================] - 0s 3ms/step - loss: 0.0367 - accuracy: 0.9917\n",
      "Epoch 64/200\n",
      "29/29 [==============================] - 0s 3ms/step - loss: 0.0314 - accuracy: 0.9924\n",
      "Epoch 65/200\n",
      "29/29 [==============================] - 0s 3ms/step - loss: 0.0438 - accuracy: 0.9854\n",
      "Epoch 66/200\n",
      "29/29 [==============================] - 0s 3ms/step - loss: 0.0468 - accuracy: 0.9882\n",
      "Epoch 67/200\n",
      "29/29 [==============================] - 0s 3ms/step - loss: 0.0441 - accuracy: 0.9868\n",
      "Epoch 68/200\n",
      "29/29 [==============================] - 0s 3ms/step - loss: 0.0469 - accuracy: 0.9861\n",
      "Epoch 69/200\n",
      "29/29 [==============================] - 0s 3ms/step - loss: 0.0363 - accuracy: 0.9896\n",
      "Epoch 70/200\n",
      "29/29 [==============================] - 0s 3ms/step - loss: 0.0394 - accuracy: 0.9889\n",
      "Epoch 71/200\n",
      "29/29 [==============================] - 0s 3ms/step - loss: 0.0409 - accuracy: 0.9875\n",
      "Epoch 72/200\n",
      "29/29 [==============================] - 0s 3ms/step - loss: 0.0353 - accuracy: 0.9882\n",
      "Epoch 73/200\n",
      "29/29 [==============================] - 0s 3ms/step - loss: 0.0489 - accuracy: 0.9840\n",
      "Epoch 74/200\n",
      "29/29 [==============================] - 0s 3ms/step - loss: 0.0588 - accuracy: 0.9812\n",
      "Epoch 75/200\n",
      "29/29 [==============================] - 0s 3ms/step - loss: 0.0457 - accuracy: 0.9854\n",
      "Epoch 76/200\n",
      "29/29 [==============================] - 0s 3ms/step - loss: 0.0282 - accuracy: 0.9917\n",
      "Epoch 77/200\n",
      "29/29 [==============================] - 0s 3ms/step - loss: 0.0283 - accuracy: 0.9910\n",
      "Epoch 78/200\n",
      "29/29 [==============================] - 0s 3ms/step - loss: 0.0241 - accuracy: 0.9924\n",
      "Epoch 79/200\n",
      "29/29 [==============================] - 0s 3ms/step - loss: 0.0260 - accuracy: 0.9931\n",
      "Epoch 80/200\n",
      "29/29 [==============================] - 0s 3ms/step - loss: 0.0297 - accuracy: 0.9903\n",
      "Epoch 81/200\n",
      "29/29 [==============================] - 0s 3ms/step - loss: 0.0310 - accuracy: 0.9924\n",
      "Epoch 82/200\n",
      "29/29 [==============================] - 0s 3ms/step - loss: 0.0271 - accuracy: 0.9910\n",
      "Epoch 83/200\n",
      "29/29 [==============================] - 0s 3ms/step - loss: 0.0250 - accuracy: 0.9937\n",
      "Epoch 84/200\n",
      "29/29 [==============================] - 0s 3ms/step - loss: 0.0292 - accuracy: 0.9924\n",
      "Epoch 85/200\n",
      "29/29 [==============================] - 0s 3ms/step - loss: 0.0279 - accuracy: 0.9937\n",
      "Epoch 86/200\n",
      "29/29 [==============================] - 0s 3ms/step - loss: 0.0221 - accuracy: 0.9937\n",
      "Epoch 87/200\n",
      "29/29 [==============================] - 0s 3ms/step - loss: 0.0201 - accuracy: 0.9944\n",
      "Epoch 88/200\n",
      "29/29 [==============================] - 0s 3ms/step - loss: 0.0256 - accuracy: 0.9931\n",
      "Epoch 89/200\n",
      "29/29 [==============================] - 0s 3ms/step - loss: 0.0211 - accuracy: 0.9937\n",
      "Epoch 90/200\n",
      "29/29 [==============================] - 0s 3ms/step - loss: 0.0252 - accuracy: 0.9937\n",
      "Epoch 91/200\n",
      "29/29 [==============================] - 0s 3ms/step - loss: 0.0279 - accuracy: 0.9896\n",
      "Epoch 92/200\n",
      "29/29 [==============================] - 0s 3ms/step - loss: 0.0274 - accuracy: 0.9924\n",
      "Epoch 93/200\n",
      "29/29 [==============================] - 0s 3ms/step - loss: 0.0201 - accuracy: 0.9958\n",
      "Epoch 94/200\n",
      "29/29 [==============================] - 0s 3ms/step - loss: 0.0175 - accuracy: 0.9951\n",
      "Epoch 95/200\n",
      "29/29 [==============================] - 0s 3ms/step - loss: 0.0170 - accuracy: 0.9944\n",
      "Epoch 96/200\n",
      "29/29 [==============================] - 0s 3ms/step - loss: 0.0172 - accuracy: 0.9958\n",
      "Epoch 97/200\n",
      "29/29 [==============================] - 0s 3ms/step - loss: 0.0341 - accuracy: 0.9931\n",
      "Epoch 98/200\n",
      "29/29 [==============================] - 0s 3ms/step - loss: 0.0163 - accuracy: 0.9958\n",
      "Epoch 99/200\n",
      "29/29 [==============================] - 0s 3ms/step - loss: 0.0164 - accuracy: 0.9944\n",
      "Epoch 100/200\n",
      "29/29 [==============================] - 0s 3ms/step - loss: 0.0169 - accuracy: 0.9924\n",
      "Epoch 101/200\n",
      "29/29 [==============================] - 0s 3ms/step - loss: 0.0095 - accuracy: 0.9993\n",
      "Epoch 102/200\n",
      "29/29 [==============================] - 0s 3ms/step - loss: 0.0095 - accuracy: 1.0000\n",
      "Epoch 103/200\n",
      "29/29 [==============================] - 0s 3ms/step - loss: 0.0171 - accuracy: 0.9958\n",
      "Epoch 104/200\n",
      "29/29 [==============================] - 0s 3ms/step - loss: 0.0107 - accuracy: 0.9979\n",
      "Epoch 105/200\n",
      "29/29 [==============================] - 0s 3ms/step - loss: 0.0108 - accuracy: 0.9979\n",
      "Epoch 106/200\n",
      "29/29 [==============================] - 0s 3ms/step - loss: 0.0106 - accuracy: 0.9979\n",
      "Epoch 107/200\n",
      "29/29 [==============================] - 0s 3ms/step - loss: 0.0113 - accuracy: 0.9972\n",
      "Epoch 108/200\n",
      "29/29 [==============================] - 0s 3ms/step - loss: 0.0201 - accuracy: 0.9958\n",
      "Epoch 109/200\n",
      "29/29 [==============================] - 0s 3ms/step - loss: 0.0360 - accuracy: 0.9917\n",
      "Epoch 110/200\n",
      "29/29 [==============================] - 0s 3ms/step - loss: 0.0437 - accuracy: 0.9896\n",
      "Epoch 111/200\n",
      "29/29 [==============================] - 0s 3ms/step - loss: 0.0250 - accuracy: 0.9951\n",
      "Epoch 112/200\n",
      "29/29 [==============================] - 0s 3ms/step - loss: 0.0141 - accuracy: 0.9972\n",
      "Epoch 113/200\n",
      "29/29 [==============================] - 0s 3ms/step - loss: 0.0155 - accuracy: 0.9951\n",
      "Epoch 114/200\n",
      "29/29 [==============================] - 0s 3ms/step - loss: 0.0203 - accuracy: 0.9951\n",
      "Epoch 115/200\n",
      "29/29 [==============================] - 0s 3ms/step - loss: 0.0207 - accuracy: 0.9951\n",
      "Epoch 116/200\n",
      "29/29 [==============================] - 0s 3ms/step - loss: 0.0256 - accuracy: 0.9910\n",
      "Epoch 117/200\n",
      "29/29 [==============================] - 0s 3ms/step - loss: 0.0155 - accuracy: 0.9958\n",
      "Epoch 118/200\n",
      "29/29 [==============================] - 0s 3ms/step - loss: 0.0107 - accuracy: 0.9986\n",
      "Epoch 119/200\n",
      "29/29 [==============================] - 0s 3ms/step - loss: 0.0119 - accuracy: 0.9986\n",
      "Epoch 120/200\n",
      "29/29 [==============================] - 0s 3ms/step - loss: 0.0093 - accuracy: 0.9986\n",
      "Epoch 121/200\n",
      "29/29 [==============================] - 0s 3ms/step - loss: 0.0093 - accuracy: 0.9986\n",
      "Epoch 122/200\n",
      "29/29 [==============================] - 0s 3ms/step - loss: 0.0133 - accuracy: 0.9972\n",
      "Epoch 123/200\n",
      "29/29 [==============================] - 0s 3ms/step - loss: 0.0064 - accuracy: 0.9993\n",
      "Epoch 124/200\n",
      "29/29 [==============================] - 0s 3ms/step - loss: 0.0081 - accuracy: 0.9993\n",
      "Epoch 125/200\n",
      "29/29 [==============================] - 0s 3ms/step - loss: 0.0072 - accuracy: 0.9993\n",
      "Epoch 126/200\n",
      "29/29 [==============================] - 0s 3ms/step - loss: 0.0054 - accuracy: 0.9986\n",
      "Epoch 127/200\n",
      "29/29 [==============================] - 0s 3ms/step - loss: 0.0088 - accuracy: 0.9986\n",
      "Epoch 128/200\n",
      "29/29 [==============================] - 0s 3ms/step - loss: 0.0075 - accuracy: 0.9993\n",
      "Epoch 129/200\n",
      "29/29 [==============================] - 0s 3ms/step - loss: 0.0088 - accuracy: 0.9986\n",
      "Epoch 130/200\n",
      "29/29 [==============================] - 0s 3ms/step - loss: 0.0071 - accuracy: 0.9993\n",
      "Epoch 131/200\n",
      "29/29 [==============================] - 0s 3ms/step - loss: 0.0091 - accuracy: 0.9979\n",
      "Epoch 132/200\n",
      "29/29 [==============================] - 0s 3ms/step - loss: 0.0055 - accuracy: 0.9993\n",
      "Epoch 133/200\n",
      "29/29 [==============================] - 0s 3ms/step - loss: 0.0066 - accuracy: 0.9986\n",
      "Epoch 134/200\n",
      "29/29 [==============================] - 0s 3ms/step - loss: 0.0056 - accuracy: 1.0000\n",
      "Epoch 135/200\n",
      "29/29 [==============================] - 0s 3ms/step - loss: 0.0086 - accuracy: 0.9979\n",
      "Epoch 136/200\n",
      "29/29 [==============================] - 0s 3ms/step - loss: 0.0081 - accuracy: 0.9979\n",
      "Epoch 137/200\n",
      "29/29 [==============================] - 0s 3ms/step - loss: 0.0071 - accuracy: 0.9986\n",
      "Epoch 138/200\n",
      "29/29 [==============================] - 0s 3ms/step - loss: 0.0088 - accuracy: 0.9972\n",
      "Epoch 139/200\n",
      "29/29 [==============================] - 0s 3ms/step - loss: 0.0119 - accuracy: 0.9972\n",
      "Epoch 140/200\n",
      "29/29 [==============================] - 0s 3ms/step - loss: 0.0324 - accuracy: 0.9931\n",
      "Epoch 141/200\n",
      "29/29 [==============================] - 0s 3ms/step - loss: 0.0185 - accuracy: 0.9958\n",
      "Epoch 142/200\n",
      "29/29 [==============================] - 0s 3ms/step - loss: 0.0095 - accuracy: 0.9986\n",
      "Epoch 143/200\n",
      "29/29 [==============================] - 0s 3ms/step - loss: 0.0151 - accuracy: 0.9965\n",
      "Epoch 144/200\n",
      "29/29 [==============================] - 0s 3ms/step - loss: 0.0110 - accuracy: 0.9972\n",
      "Epoch 145/200\n",
      "29/29 [==============================] - 0s 3ms/step - loss: 0.0249 - accuracy: 0.9972\n",
      "Epoch 146/200\n",
      "29/29 [==============================] - 0s 3ms/step - loss: 0.0114 - accuracy: 0.9979\n",
      "Epoch 147/200\n",
      "29/29 [==============================] - 0s 3ms/step - loss: 0.0194 - accuracy: 0.9965\n",
      "Epoch 148/200\n",
      "29/29 [==============================] - 0s 3ms/step - loss: 0.0137 - accuracy: 0.9972\n",
      "Epoch 149/200\n",
      "29/29 [==============================] - 0s 3ms/step - loss: 0.0103 - accuracy: 0.9972\n",
      "Epoch 150/200\n",
      "29/29 [==============================] - 0s 3ms/step - loss: 0.0092 - accuracy: 0.9979\n",
      "Epoch 151/200\n",
      "29/29 [==============================] - 0s 3ms/step - loss: 0.0054 - accuracy: 0.9993\n",
      "Epoch 152/200\n",
      "29/29 [==============================] - 0s 3ms/step - loss: 0.0111 - accuracy: 0.9958\n",
      "Epoch 153/200\n",
      "29/29 [==============================] - 0s 3ms/step - loss: 0.0048 - accuracy: 0.9993\n",
      "Epoch 154/200\n",
      "29/29 [==============================] - 0s 3ms/step - loss: 0.0122 - accuracy: 0.9965\n",
      "Epoch 155/200\n",
      "29/29 [==============================] - 0s 3ms/step - loss: 0.0066 - accuracy: 0.9993\n",
      "Epoch 156/200\n",
      "29/29 [==============================] - 0s 3ms/step - loss: 0.0046 - accuracy: 1.0000\n",
      "Epoch 157/200\n",
      "29/29 [==============================] - 0s 3ms/step - loss: 0.0073 - accuracy: 0.9979\n",
      "Epoch 158/200\n",
      "29/29 [==============================] - 0s 3ms/step - loss: 0.0060 - accuracy: 0.9986\n",
      "Epoch 159/200\n",
      "29/29 [==============================] - 0s 3ms/step - loss: 0.0037 - accuracy: 1.0000\n",
      "Epoch 160/200\n",
      "29/29 [==============================] - 0s 3ms/step - loss: 0.0166 - accuracy: 0.9937\n",
      "Epoch 161/200\n",
      "29/29 [==============================] - 0s 3ms/step - loss: 0.0098 - accuracy: 0.9979\n",
      "Epoch 162/200\n",
      "29/29 [==============================] - 0s 3ms/step - loss: 0.0056 - accuracy: 0.9986\n",
      "Epoch 163/200\n",
      "29/29 [==============================] - 0s 3ms/step - loss: 0.0092 - accuracy: 0.9972\n",
      "Epoch 164/200\n",
      "29/29 [==============================] - 0s 3ms/step - loss: 0.0057 - accuracy: 1.0000\n",
      "Epoch 165/200\n",
      "29/29 [==============================] - 0s 3ms/step - loss: 0.0055 - accuracy: 0.9979\n",
      "Epoch 166/200\n",
      "29/29 [==============================] - 0s 3ms/step - loss: 0.0164 - accuracy: 0.9972\n",
      "Epoch 167/200\n",
      "29/29 [==============================] - 0s 3ms/step - loss: 0.0439 - accuracy: 0.9896\n",
      "Epoch 168/200\n",
      "29/29 [==============================] - 0s 4ms/step - loss: 0.0154 - accuracy: 0.9951\n",
      "Epoch 169/200\n",
      "29/29 [==============================] - 0s 3ms/step - loss: 0.0099 - accuracy: 0.9986\n",
      "Epoch 170/200\n",
      "29/29 [==============================] - 0s 3ms/step - loss: 0.0070 - accuracy: 0.9986\n",
      "Epoch 171/200\n",
      "29/29 [==============================] - 0s 3ms/step - loss: 0.0055 - accuracy: 0.9986\n",
      "Epoch 172/200\n",
      "29/29 [==============================] - 0s 3ms/step - loss: 0.0074 - accuracy: 0.9993\n",
      "Epoch 173/200\n",
      "29/29 [==============================] - 0s 3ms/step - loss: 0.0064 - accuracy: 0.9986\n",
      "Epoch 174/200\n",
      "29/29 [==============================] - 0s 3ms/step - loss: 0.0059 - accuracy: 0.9986\n",
      "Epoch 175/200\n",
      "29/29 [==============================] - 0s 3ms/step - loss: 0.0101 - accuracy: 0.9993\n",
      "Epoch 176/200\n",
      "29/29 [==============================] - 0s 3ms/step - loss: 0.0136 - accuracy: 0.9958\n",
      "Epoch 177/200\n",
      "29/29 [==============================] - 0s 3ms/step - loss: 0.0135 - accuracy: 0.9958\n",
      "Epoch 178/200\n",
      "29/29 [==============================] - 0s 3ms/step - loss: 0.0101 - accuracy: 0.9965\n",
      "Epoch 179/200\n",
      "29/29 [==============================] - 0s 3ms/step - loss: 0.0092 - accuracy: 0.9986\n",
      "Epoch 180/200\n",
      "29/29 [==============================] - 0s 3ms/step - loss: 0.0047 - accuracy: 1.0000\n",
      "Epoch 181/200\n",
      "29/29 [==============================] - 0s 3ms/step - loss: 0.0055 - accuracy: 0.9986\n",
      "Epoch 182/200\n",
      "29/29 [==============================] - 0s 3ms/step - loss: 0.0070 - accuracy: 0.9979\n",
      "Epoch 183/200\n",
      "29/29 [==============================] - 0s 3ms/step - loss: 0.0071 - accuracy: 0.9986\n",
      "Epoch 184/200\n",
      "29/29 [==============================] - 0s 3ms/step - loss: 0.0043 - accuracy: 0.9993\n",
      "Epoch 185/200\n",
      "29/29 [==============================] - 0s 3ms/step - loss: 0.0033 - accuracy: 1.0000\n",
      "Epoch 186/200\n",
      "29/29 [==============================] - 0s 3ms/step - loss: 0.0039 - accuracy: 1.0000\n",
      "Epoch 187/200\n",
      "29/29 [==============================] - 0s 3ms/step - loss: 0.0070 - accuracy: 0.9979\n",
      "Epoch 188/200\n",
      "29/29 [==============================] - 0s 3ms/step - loss: 0.0060 - accuracy: 0.9972\n",
      "Epoch 189/200\n",
      "29/29 [==============================] - 0s 3ms/step - loss: 0.0020 - accuracy: 1.0000\n",
      "Epoch 190/200\n",
      "29/29 [==============================] - 0s 3ms/step - loss: 0.0084 - accuracy: 0.9979\n",
      "Epoch 191/200\n",
      "29/29 [==============================] - 0s 3ms/step - loss: 0.0072 - accuracy: 0.9972\n",
      "Epoch 192/200\n",
      "29/29 [==============================] - 0s 3ms/step - loss: 0.0047 - accuracy: 0.9993\n",
      "Epoch 193/200\n",
      "29/29 [==============================] - 0s 3ms/step - loss: 0.0036 - accuracy: 0.9986\n",
      "Epoch 194/200\n",
      "29/29 [==============================] - 0s 3ms/step - loss: 0.0038 - accuracy: 0.9993\n",
      "Epoch 195/200\n",
      "29/29 [==============================] - 0s 3ms/step - loss: 0.0037 - accuracy: 1.0000\n",
      "Epoch 196/200\n",
      "29/29 [==============================] - 0s 3ms/step - loss: 0.0046 - accuracy: 0.9979\n",
      "Epoch 197/200\n",
      "29/29 [==============================] - 0s 3ms/step - loss: 0.0041 - accuracy: 0.9993\n",
      "Epoch 198/200\n",
      "29/29 [==============================] - 0s 3ms/step - loss: 0.0080 - accuracy: 0.9979\n",
      "Epoch 199/200\n",
      "29/29 [==============================] - 0s 3ms/step - loss: 0.0305 - accuracy: 0.9944\n",
      "Epoch 200/200\n",
      "29/29 [==============================] - 0s 3ms/step - loss: 0.0626 - accuracy: 0.9882\n"
     ]
    },
    {
     "data": {
      "text/plain": [
       "GridSearchCV(cv=3,\n",
       "             estimator=<keras.wrappers.scikit_learn.KerasClassifier object at 0x7f0793c6ab10>,\n",
       "             n_jobs=-1,\n",
       "             param_grid={'batch_size': [20, 30, 50], 'epochs': [50, 100, 200],\n",
       "                         'loss': ['binary_crossentropy', 'mean_squared_error'],\n",
       "                         'optimizer': ['adam', 'rmsprop']},\n",
       "             verbose=2)"
      ]
     },
     "execution_count": 43,
     "metadata": {},
     "output_type": "execute_result"
    }
   ],
   "source": [
    "grid_search_ann = GridSearchCV(estimator = model_ann_gs, param_grid = param_grid1, cv = 3, n_jobs = -1, verbose = 2)\n",
    "\n",
    "grid_search_ann.fit(X_train, y_train)"
   ]
  },
  {
   "cell_type": "code",
   "execution_count": null,
   "id": "6jJlASdyA7r8",
   "metadata": {
    "colab": {
     "base_uri": "https://localhost:8080/"
    },
    "executionInfo": {
     "elapsed": 283,
     "status": "ok",
     "timestamp": 1662364290917,
     "user": {
      "displayName": "hc lau",
      "userId": "10631895198423306395"
     },
     "user_tz": -480
    },
    "id": "6jJlASdyA7r8",
    "outputId": "9ac437c4-35ec-482a-8ef4-0eb046d9a295"
   },
   "outputs": [
    {
     "data": {
      "text/plain": [
       "{'batch_size': 50,\n",
       " 'epochs': 200,\n",
       " 'loss': 'binary_crossentropy',\n",
       " 'optimizer': 'adam'}"
      ]
     },
     "execution_count": 44,
     "metadata": {},
     "output_type": "execute_result"
    }
   ],
   "source": [
    "grid_search_ann.best_params_"
   ]
  },
  {
   "cell_type": "code",
   "execution_count": null,
   "id": "60eEmGQgBBU_",
   "metadata": {
    "colab": {
     "base_uri": "https://localhost:8080/"
    },
    "executionInfo": {
     "elapsed": 6,
     "status": "ok",
     "timestamp": 1662364292345,
     "user": {
      "displayName": "hc lau",
      "userId": "10631895198423306395"
     },
     "user_tz": -480
    },
    "id": "60eEmGQgBBU_",
    "outputId": "e729e220-9055-4044-d7b9-8899cf75aec9"
   },
   "outputs": [
    {
     "name": "stdout",
     "output_type": "stream",
     "text": [
      "Accuracy:  70.652%\n"
     ]
    }
   ],
   "source": [
    "model_ann_bg = grid_search_ann.best_estimator_\n",
    "\n",
    "y_pred_ann_bg = model_ann_bg.predict(X_test)\n",
    "\n",
    "print(f'Accuracy: {100*accuracy_score(y_pred_ann_bg, y_test): .3f}%')"
   ]
  },
  {
   "cell_type": "markdown",
   "id": "asfKZxK0oqM-",
   "metadata": {
    "id": "asfKZxK0oqM-"
   },
   "source": [
    "## Model Evaluation"
   ]
  },
  {
   "cell_type": "markdown",
   "id": "LyK68QOSot_U",
   "metadata": {
    "id": "LyK68QOSot_U"
   },
   "source": [
    "**Random Forest Classifer** \n",
    "*   Accuracy Before HPT : 79.620%\n",
    "*   Accuracy After HPT : 83.967%\n",
    "\n",
    "\n",
    "**Ariticial Neural Network**\n",
    "* Accuracy Before HPT : 76.087%\n",
    "* Accuracy After HPT : 70.652%\n",
    "\n",
    "Random Forest Classifier after hyperparameter tuning will be our final model."
   ]
  },
  {
   "cell_type": "code",
   "execution_count": 49,
   "id": "Yetyb-ULHY9O",
   "metadata": {
    "executionInfo": {
     "elapsed": 325,
     "status": "ok",
     "timestamp": 1662364883481,
     "user": {
      "displayName": "hc lau",
      "userId": "10631895198423306395"
     },
     "user_tz": -480
    },
    "id": "Yetyb-ULHY9O"
   },
   "outputs": [],
   "source": [
    "import pickle\n",
    "pickle.dump(model_rf_bg, open('model/model_rf_final.pickle', 'wb'))"
   ]
  },
  {
   "cell_type": "code",
   "execution_count": null,
   "id": "TycbvU1aqxYO",
   "metadata": {
    "id": "TycbvU1aqxYO"
   },
   "outputs": [],
   "source": []
  }
 ],
 "metadata": {
  "accelerator": "GPU",
  "colab": {
   "collapsed_sections": [
    "ea81cb82",
    "bb32bad0",
    "af053046",
    "e467894a",
    "pG2VhSfxGtXy"
   ],
   "provenance": []
  },
  "gpuClass": "standard",
  "kernelspec": {
   "display_name": "Python 3 (ipykernel)",
   "language": "python",
   "name": "python3"
  },
  "language_info": {
   "codemirror_mode": {
    "name": "ipython",
    "version": 3
   },
   "file_extension": ".py",
   "mimetype": "text/x-python",
   "name": "python",
   "nbconvert_exporter": "python",
   "pygments_lexer": "ipython3",
   "version": "3.9.7"
  }
 },
 "nbformat": 4,
 "nbformat_minor": 5
}
